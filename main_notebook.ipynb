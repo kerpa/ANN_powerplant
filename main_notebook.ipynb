{
 "cells": [
  {
   "cell_type": "markdown",
   "metadata": {},
   "source": [
    "# Power Plant  Regression with ANN\n",
    "\n",
    "The purpose of this notebook is to be able to modelise power plant energy system.\n",
    "Indeed, it is good to know that with few variables it is possible to have a good prediction of the energy created."
   ]
  },
  {
   "cell_type": "code",
   "execution_count": 1,
   "metadata": {},
   "outputs": [],
   "source": [
    "import pandas as pd\n",
    "import numpy as np"
   ]
  },
  {
   "cell_type": "code",
   "execution_count": 2,
   "metadata": {},
   "outputs": [
    {
     "data": {
      "text/html": [
       "<div>\n",
       "<style scoped>\n",
       "    .dataframe tbody tr th:only-of-type {\n",
       "        vertical-align: middle;\n",
       "    }\n",
       "\n",
       "    .dataframe tbody tr th {\n",
       "        vertical-align: top;\n",
       "    }\n",
       "\n",
       "    .dataframe thead th {\n",
       "        text-align: right;\n",
       "    }\n",
       "</style>\n",
       "<table border=\"1\" class=\"dataframe\">\n",
       "  <thead>\n",
       "    <tr style=\"text-align: right;\">\n",
       "      <th></th>\n",
       "      <th>AT</th>\n",
       "      <th>V</th>\n",
       "      <th>AP</th>\n",
       "      <th>RH</th>\n",
       "      <th>PE</th>\n",
       "    </tr>\n",
       "  </thead>\n",
       "  <tbody>\n",
       "    <tr>\n",
       "      <th>count</th>\n",
       "      <td>9568.000000</td>\n",
       "      <td>9568.000000</td>\n",
       "      <td>9568.000000</td>\n",
       "      <td>9568.000000</td>\n",
       "      <td>9568.000000</td>\n",
       "    </tr>\n",
       "    <tr>\n",
       "      <th>mean</th>\n",
       "      <td>19.651231</td>\n",
       "      <td>54.305804</td>\n",
       "      <td>1013.259078</td>\n",
       "      <td>73.308978</td>\n",
       "      <td>454.365009</td>\n",
       "    </tr>\n",
       "    <tr>\n",
       "      <th>std</th>\n",
       "      <td>7.452473</td>\n",
       "      <td>12.707893</td>\n",
       "      <td>5.938784</td>\n",
       "      <td>14.600269</td>\n",
       "      <td>17.066995</td>\n",
       "    </tr>\n",
       "    <tr>\n",
       "      <th>min</th>\n",
       "      <td>1.810000</td>\n",
       "      <td>25.360000</td>\n",
       "      <td>992.890000</td>\n",
       "      <td>25.560000</td>\n",
       "      <td>420.260000</td>\n",
       "    </tr>\n",
       "    <tr>\n",
       "      <th>25%</th>\n",
       "      <td>13.510000</td>\n",
       "      <td>41.740000</td>\n",
       "      <td>1009.100000</td>\n",
       "      <td>63.327500</td>\n",
       "      <td>439.750000</td>\n",
       "    </tr>\n",
       "    <tr>\n",
       "      <th>50%</th>\n",
       "      <td>20.345000</td>\n",
       "      <td>52.080000</td>\n",
       "      <td>1012.940000</td>\n",
       "      <td>74.975000</td>\n",
       "      <td>451.550000</td>\n",
       "    </tr>\n",
       "    <tr>\n",
       "      <th>75%</th>\n",
       "      <td>25.720000</td>\n",
       "      <td>66.540000</td>\n",
       "      <td>1017.260000</td>\n",
       "      <td>84.830000</td>\n",
       "      <td>468.430000</td>\n",
       "    </tr>\n",
       "    <tr>\n",
       "      <th>max</th>\n",
       "      <td>37.110000</td>\n",
       "      <td>81.560000</td>\n",
       "      <td>1033.300000</td>\n",
       "      <td>100.160000</td>\n",
       "      <td>495.760000</td>\n",
       "    </tr>\n",
       "  </tbody>\n",
       "</table>\n",
       "</div>"
      ],
      "text/plain": [
       "                AT            V           AP           RH           PE\n",
       "count  9568.000000  9568.000000  9568.000000  9568.000000  9568.000000\n",
       "mean     19.651231    54.305804  1013.259078    73.308978   454.365009\n",
       "std       7.452473    12.707893     5.938784    14.600269    17.066995\n",
       "min       1.810000    25.360000   992.890000    25.560000   420.260000\n",
       "25%      13.510000    41.740000  1009.100000    63.327500   439.750000\n",
       "50%      20.345000    52.080000  1012.940000    74.975000   451.550000\n",
       "75%      25.720000    66.540000  1017.260000    84.830000   468.430000\n",
       "max      37.110000    81.560000  1033.300000   100.160000   495.760000"
      ]
     },
     "execution_count": 2,
     "metadata": {},
     "output_type": "execute_result"
    }
   ],
   "source": [
    "df = pd.read_csv('Folds5x2_pp.csv')\n",
    "df.describe()"
   ]
  },
  {
   "cell_type": "markdown",
   "metadata": {},
   "source": [
    "We cansee that the dataset is composed of around 10 000 values which is a good thing to have relevant predictions."
   ]
  },
  {
   "cell_type": "code",
   "execution_count": 3,
   "metadata": {},
   "outputs": [],
   "source": [
    "from sklearn.utils import shuffle\n",
    "\n",
    "df =  shuffle(df)"
   ]
  },
  {
   "cell_type": "markdown",
   "metadata": {},
   "source": [
    "### Process of the data\n",
    "\n",
    "We extract only the numerical data\n",
    "Afterward we split in a trainning set to train the ANN and in a test set to evaluate the performance of the ANN of real data."
   ]
  },
  {
   "cell_type": "code",
   "execution_count": 4,
   "metadata": {},
   "outputs": [
    {
     "name": "stdout",
     "output_type": "stream",
     "text": [
      "[[  12.28   40.92 1023.23   89.14]\n",
      " [  14.93   43.02 1012.11   45.56]\n",
      " [  27.98   67.9  1006.3    73.53]\n",
      " ...\n",
      " [  26.1    44.57 1007.47   55.15]\n",
      " [  14.99   41.35 1004.56   98.9 ]\n",
      " [  11.48   41.2  1012.88   90.04]]\n",
      "[460.33 468.19 436.08 ... 446.49 466.85 478.34]\n"
     ]
    }
   ],
   "source": [
    "X =  df.drop('PE',axis=1).values\n",
    "y =  df['PE'].values\n",
    "\n",
    "print(X)\n",
    "print(y)"
   ]
  },
  {
   "cell_type": "code",
   "execution_count": 5,
   "metadata": {},
   "outputs": [
    {
     "name": "stdout",
     "output_type": "stream",
     "text": [
      "(7654, 4)\n",
      "(1914, 4)\n",
      "(7654,)\n",
      "(1914,)\n"
     ]
    }
   ],
   "source": [
    "from sklearn.model_selection import train_test_split\n",
    "X_train, X_test, y_train, y_test = train_test_split(X,y, test_size=0.2, random_state=42)\n",
    "print(X_train.shape)\n",
    "print(X_test.shape)\n",
    "print(y_train.shape)\n",
    "print(y_test.shape)"
   ]
  },
  {
   "cell_type": "markdown",
   "metadata": {},
   "source": [
    "The use of robust sacler achieve two importants objectives, removing  outliers or at least reducing  their importance and normalise the data for feeding the ANN."
   ]
  },
  {
   "cell_type": "code",
   "execution_count": 6,
   "metadata": {},
   "outputs": [],
   "source": [
    "from sklearn.preprocessing import RobustScaler\n",
    "\n",
    "scaler = RobustScaler(quantile_range=(25.0, 75.0))\n",
    "scaler.fit(X_train)\n",
    "X_train = scaler.transform(X_train)\n",
    "X_test  = scaler.transform(X_test)"
   ]
  },
  {
   "cell_type": "markdown",
   "metadata": {},
   "source": [
    "### Creation of the ANN\n",
    "This ANN has two hidden layers. It's an advanced regressor."
   ]
  },
  {
   "cell_type": "code",
   "execution_count": 7,
   "metadata": {},
   "outputs": [
    {
     "name": "stderr",
     "output_type": "stream",
     "text": [
      "2022-06-07 08:38:07.678224: I tensorflow/core/platform/cpu_feature_guard.cc:193] This TensorFlow binary is optimized with oneAPI Deep Neural Network Library (oneDNN) to use the following CPU instructions in performance-critical operations:  AVX2 FMA\n",
      "To enable them in other operations, rebuild TensorFlow with the appropriate compiler flags.\n"
     ]
    }
   ],
   "source": [
    "from tensorflow.keras.models import Sequential\n",
    "from tensorflow.keras.layers import Dense\n",
    "from tensorflow.keras.callbacks import EarlyStopping\n",
    "\n",
    "ann = Sequential([\n",
    "    Dense(units=6, activation='relu'),\n",
    "    Dense(units=6, activation='relu'),\n",
    "    Dense(units=1)\n",
    "])"
   ]
  },
  {
   "cell_type": "code",
   "execution_count": 8,
   "metadata": {},
   "outputs": [],
   "source": [
    "ann.compile(\n",
    "    loss='mse',\n",
    "    optimizer='adam'\n",
    ")"
   ]
  },
  {
   "cell_type": "code",
   "execution_count": 9,
   "metadata": {},
   "outputs": [
    {
     "name": "stdout",
     "output_type": "stream",
     "text": [
      "Epoch 1/100\n",
      "240/240 [==============================] - 1s 2ms/step - loss: 206378.0938 - val_loss: 205695.3750\n",
      "Epoch 2/100\n",
      "240/240 [==============================] - 0s 1ms/step - loss: 202806.9375 - val_loss: 198111.3750\n",
      "Epoch 3/100\n",
      "240/240 [==============================] - 0s 1ms/step - loss: 189011.4219 - val_loss: 177257.2031\n",
      "Epoch 4/100\n",
      "240/240 [==============================] - 0s 1ms/step - loss: 161318.3906 - val_loss: 142798.7656\n",
      "Epoch 5/100\n",
      "240/240 [==============================] - 0s 1ms/step - loss: 122647.4453 - val_loss: 100830.5391\n",
      "Epoch 6/100\n",
      "240/240 [==============================] - 0s 1ms/step - loss: 81145.7734 - val_loss: 61078.6797\n",
      "Epoch 7/100\n",
      "240/240 [==============================] - 0s 1ms/step - loss: 46201.0820 - val_loss: 31796.6797\n",
      "Epoch 8/100\n",
      "240/240 [==============================] - 0s 1ms/step - loss: 23241.9238 - val_loss: 15130.5195\n",
      "Epoch 9/100\n",
      "240/240 [==============================] - 0s 1ms/step - loss: 11271.8857 - val_loss: 7512.2183\n",
      "Epoch 10/100\n",
      "240/240 [==============================] - 0s 1ms/step - loss: 6047.8291 - val_loss: 4477.0049\n",
      "Epoch 11/100\n",
      "240/240 [==============================] - 0s 1ms/step - loss: 3992.3389 - val_loss: 3316.7856\n",
      "Epoch 12/100\n",
      "240/240 [==============================] - 0s 1ms/step - loss: 3105.2036 - val_loss: 2763.5095\n",
      "Epoch 13/100\n",
      "240/240 [==============================] - 0s 1ms/step - loss: 2614.3796 - val_loss: 2398.6211\n",
      "Epoch 14/100\n",
      "240/240 [==============================] - 0s 1ms/step - loss: 2259.6648 - val_loss: 2095.7600\n",
      "Epoch 15/100\n",
      "240/240 [==============================] - 0s 1ms/step - loss: 1955.3322 - val_loss: 1815.7944\n",
      "Epoch 16/100\n",
      "240/240 [==============================] - 0s 1ms/step - loss: 1680.1208 - val_loss: 1555.3022\n",
      "Epoch 17/100\n",
      "240/240 [==============================] - 0s 1ms/step - loss: 1427.8730 - val_loss: 1314.8700\n",
      "Epoch 18/100\n",
      "240/240 [==============================] - 0s 2ms/step - loss: 1198.7279 - val_loss: 1097.7953\n",
      "Epoch 19/100\n",
      "240/240 [==============================] - 0s 1ms/step - loss: 993.7878 - val_loss: 901.5710\n",
      "Epoch 20/100\n",
      "240/240 [==============================] - 0s 1ms/step - loss: 814.0460 - val_loss: 730.7407\n",
      "Epoch 21/100\n",
      "240/240 [==============================] - 0s 2ms/step - loss: 658.9612 - val_loss: 585.2306\n",
      "Epoch 22/100\n",
      "240/240 [==============================] - 0s 2ms/step - loss: 525.6451 - val_loss: 462.2550\n",
      "Epoch 23/100\n",
      "240/240 [==============================] - 0s 1ms/step - loss: 413.3099 - val_loss: 359.1842\n",
      "Epoch 24/100\n",
      "240/240 [==============================] - 0s 1ms/step - loss: 321.5060 - val_loss: 276.9971\n",
      "Epoch 25/100\n",
      "240/240 [==============================] - 0s 1ms/step - loss: 247.2150 - val_loss: 211.5268\n",
      "Epoch 26/100\n",
      "240/240 [==============================] - 0s 1ms/step - loss: 189.3587 - val_loss: 160.6327\n",
      "Epoch 27/100\n",
      "240/240 [==============================] - 0s 1ms/step - loss: 144.3353 - val_loss: 122.3693\n",
      "Epoch 28/100\n",
      "240/240 [==============================] - 0s 1ms/step - loss: 110.6013 - val_loss: 93.9438\n",
      "Epoch 29/100\n",
      "240/240 [==============================] - 0s 1ms/step - loss: 85.5049 - val_loss: 73.2406\n",
      "Epoch 30/100\n",
      "240/240 [==============================] - 0s 1ms/step - loss: 67.4249 - val_loss: 57.3942\n",
      "Epoch 31/100\n",
      "240/240 [==============================] - 0s 1ms/step - loss: 54.3165 - val_loss: 46.6173\n",
      "Epoch 32/100\n",
      "240/240 [==============================] - 0s 1ms/step - loss: 45.2188 - val_loss: 39.7231\n",
      "Epoch 33/100\n",
      "240/240 [==============================] - 0s 1ms/step - loss: 38.4539 - val_loss: 34.3250\n",
      "Epoch 34/100\n",
      "240/240 [==============================] - 0s 1ms/step - loss: 33.6174 - val_loss: 30.5228\n",
      "Epoch 35/100\n",
      "240/240 [==============================] - 0s 1ms/step - loss: 30.1908 - val_loss: 27.8580\n",
      "Epoch 36/100\n",
      "240/240 [==============================] - 0s 1ms/step - loss: 27.6634 - val_loss: 25.4612\n",
      "Epoch 37/100\n",
      "240/240 [==============================] - 0s 1ms/step - loss: 25.5333 - val_loss: 23.9887\n",
      "Epoch 38/100\n",
      "240/240 [==============================] - 0s 1ms/step - loss: 24.2061 - val_loss: 23.0204\n",
      "Epoch 39/100\n",
      "240/240 [==============================] - 0s 1ms/step - loss: 23.2671 - val_loss: 22.4821\n",
      "Epoch 40/100\n",
      "240/240 [==============================] - 0s 1ms/step - loss: 22.6376 - val_loss: 22.1327\n",
      "Epoch 41/100\n",
      "240/240 [==============================] - 0s 1ms/step - loss: 22.2161 - val_loss: 21.9494\n",
      "Epoch 42/100\n",
      "240/240 [==============================] - 0s 1ms/step - loss: 21.8751 - val_loss: 21.7035\n",
      "Epoch 43/100\n",
      "240/240 [==============================] - 0s 1ms/step - loss: 21.6152 - val_loss: 21.6847\n",
      "Epoch 44/100\n",
      "240/240 [==============================] - 0s 1ms/step - loss: 21.4124 - val_loss: 21.3540\n",
      "Epoch 45/100\n",
      "240/240 [==============================] - 0s 1ms/step - loss: 21.2428 - val_loss: 21.2758\n",
      "Epoch 46/100\n",
      "240/240 [==============================] - 0s 1ms/step - loss: 21.1250 - val_loss: 21.1032\n",
      "Epoch 47/100\n",
      "240/240 [==============================] - 0s 1ms/step - loss: 20.8971 - val_loss: 21.1627\n",
      "Epoch 48/100\n",
      "240/240 [==============================] - 0s 1ms/step - loss: 20.8605 - val_loss: 21.3391\n",
      "Epoch 49/100\n",
      "240/240 [==============================] - 0s 1ms/step - loss: 20.8338 - val_loss: 21.0956\n",
      "Epoch 50/100\n",
      "240/240 [==============================] - 0s 1ms/step - loss: 20.8189 - val_loss: 21.2823\n",
      "Epoch 51/100\n",
      "240/240 [==============================] - 0s 2ms/step - loss: 20.6436 - val_loss: 21.1781\n",
      "Epoch 52/100\n",
      "240/240 [==============================] - 0s 1ms/step - loss: 20.6089 - val_loss: 20.9950\n",
      "Epoch 53/100\n",
      "240/240 [==============================] - 0s 1ms/step - loss: 20.6064 - val_loss: 21.3297\n",
      "Epoch 54/100\n",
      "240/240 [==============================] - 0s 1ms/step - loss: 20.5757 - val_loss: 21.3478\n",
      "Epoch 55/100\n",
      "240/240 [==============================] - 0s 1ms/step - loss: 20.5370 - val_loss: 21.2603\n",
      "Epoch 56/100\n",
      "240/240 [==============================] - 0s 1ms/step - loss: 20.4793 - val_loss: 21.2657\n"
     ]
    },
    {
     "data": {
      "text/plain": [
       "<keras.callbacks.History at 0x7fabe6c9ea30>"
      ]
     },
     "execution_count": 9,
     "metadata": {},
     "output_type": "execute_result"
    }
   ],
   "source": [
    "ann.fit(\n",
    "    x=X_train,\n",
    "    y=y_train,\n",
    "    epochs=100,\n",
    "    batch_size=32,\n",
    "    validation_data=(X_test,y_test),\n",
    "    callbacks=EarlyStopping(monitor='val_loss', patience=4)\n",
    ")"
   ]
  },
  {
   "cell_type": "code",
   "execution_count": 10,
   "metadata": {},
   "outputs": [
    {
     "data": {
      "text/plain": [
       "<AxesSubplot:>"
      ]
     },
     "execution_count": 10,
     "metadata": {},
     "output_type": "execute_result"
    },
    {
     "data": {
      "image/png": "[encoded data removed]",
      "text/plain": [
       "<Figure size 432x288 with 1 Axes>"
      ]
     },
     "metadata": {
      "needs_background": "light"
     },
     "output_type": "display_data"
    }
   ],
   "source": [
    "loss_df = pd.DataFrame(ann.history.history)\n",
    "loss_df.plot()"
   ]
  },
  {
   "cell_type": "code",
   "execution_count": 11,
   "metadata": {},
   "outputs": [
    {
     "name": "stdout",
     "output_type": "stream",
     "text": [
      "60/60 [==============================] - 0s 718us/step\n"
     ]
    },
    {
     "data": {
      "text/html": [
       "<div>\n",
       "<style scoped>\n",
       "    .dataframe tbody tr th:only-of-type {\n",
       "        vertical-align: middle;\n",
       "    }\n",
       "\n",
       "    .dataframe tbody tr th {\n",
       "        vertical-align: top;\n",
       "    }\n",
       "\n",
       "    .dataframe thead th {\n",
       "        text-align: right;\n",
       "    }\n",
       "</style>\n",
       "<table border=\"1\" class=\"dataframe\">\n",
       "  <thead>\n",
       "    <tr style=\"text-align: right;\">\n",
       "      <th></th>\n",
       "      <th>Real Values</th>\n",
       "      <th>Predictions</th>\n",
       "    </tr>\n",
       "  </thead>\n",
       "  <tbody>\n",
       "    <tr>\n",
       "      <th>0</th>\n",
       "      <td>431.07</td>\n",
       "      <td>431.750244</td>\n",
       "    </tr>\n",
       "    <tr>\n",
       "      <th>1</th>\n",
       "      <td>442.60</td>\n",
       "      <td>442.327698</td>\n",
       "    </tr>\n",
       "    <tr>\n",
       "      <th>2</th>\n",
       "      <td>452.45</td>\n",
       "      <td>450.669525</td>\n",
       "    </tr>\n",
       "    <tr>\n",
       "      <th>3</th>\n",
       "      <td>453.94</td>\n",
       "      <td>451.904755</td>\n",
       "    </tr>\n",
       "    <tr>\n",
       "      <th>4</th>\n",
       "      <td>432.00</td>\n",
       "      <td>433.029022</td>\n",
       "    </tr>\n",
       "    <tr>\n",
       "      <th>...</th>\n",
       "      <td>...</td>\n",
       "      <td>...</td>\n",
       "    </tr>\n",
       "    <tr>\n",
       "      <th>1909</th>\n",
       "      <td>480.71</td>\n",
       "      <td>475.322388</td>\n",
       "    </tr>\n",
       "    <tr>\n",
       "      <th>1910</th>\n",
       "      <td>485.36</td>\n",
       "      <td>480.665955</td>\n",
       "    </tr>\n",
       "    <tr>\n",
       "      <th>1911</th>\n",
       "      <td>440.08</td>\n",
       "      <td>443.479645</td>\n",
       "    </tr>\n",
       "    <tr>\n",
       "      <th>1912</th>\n",
       "      <td>433.71</td>\n",
       "      <td>442.436432</td>\n",
       "    </tr>\n",
       "    <tr>\n",
       "      <th>1913</th>\n",
       "      <td>461.16</td>\n",
       "      <td>459.948090</td>\n",
       "    </tr>\n",
       "  </tbody>\n",
       "</table>\n",
       "<p>1914 rows × 2 columns</p>\n",
       "</div>"
      ],
      "text/plain": [
       "      Real Values  Predictions\n",
       "0          431.07   431.750244\n",
       "1          442.60   442.327698\n",
       "2          452.45   450.669525\n",
       "3          453.94   451.904755\n",
       "4          432.00   433.029022\n",
       "...           ...          ...\n",
       "1909       480.71   475.322388\n",
       "1910       485.36   480.665955\n",
       "1911       440.08   443.479645\n",
       "1912       433.71   442.436432\n",
       "1913       461.16   459.948090\n",
       "\n",
       "[1914 rows x 2 columns]"
      ]
     },
     "execution_count": 11,
     "metadata": {},
     "output_type": "execute_result"
    }
   ],
   "source": [
    "predictions  = ann.predict(X_test)\n",
    "predictions_df = pd.DataFrame(np.ravel(predictions),columns=['Predictions'])\n",
    "comparison_df = pd.concat([pd.DataFrame(y_test,columns=['Real Values']),predictions_df],axis=1)\n",
    "comparison_df"
   ]
  },
  {
   "cell_type": "markdown",
   "metadata": {},
   "source": [
    "###  evaluation of the predictions\n",
    "\n",
    "The next graph show that the model fit pretty well the real data.\n",
    "Fact which is again proved with a R2 coefficient (explained variance coeff) of ~0.92 "
   ]
  },
  {
   "cell_type": "code",
   "execution_count": 15,
   "metadata": {},
   "outputs": [
    {
     "data": {
      "image/png": "[encoded data removed]",
      "text/plain": [
       "<Figure size 864x720 with 1 Axes>"
      ]
     },
     "metadata": {
      "needs_background": "light"
     },
     "output_type": "display_data"
    }
   ],
   "source": [
    "import matplotlib.pyplot as plt\n",
    "\n",
    "plt.figure(figsize=(12,10))\n",
    "plt.scatter(np.ravel(predictions), y_test)\n",
    "plt.plot(y_test,y_test, 'r')\n",
    "plt.title(\"The Scatterplot of Relationship between Actual Values and Predictions\")\n",
    "plt.xlabel(\"Predictions\")\n",
    "plt.ylabel(\"Actual Values\")\n",
    "plt.show()"
   ]
  },
  {
   "cell_type": "code",
   "execution_count": 13,
   "metadata": {},
   "outputs": [
    {
     "name": "stdout",
     "output_type": "stream",
     "text": [
      "MAE: 3.6804619640641327\n",
      "MSE: 21.26568140865345\n",
      "RMSE: 4.611472802549469\n"
     ]
    }
   ],
   "source": [
    "from sklearn import metrics\n",
    "\n",
    "print(\"MAE:\",metrics.mean_absolute_error(y_test,predictions))\n",
    "print (\"MSE:\",metrics.mean_squared_error(y_test,predictions))\n",
    "print(\"RMSE:\",np.sqrt(metrics.mean_squared_error(y_test,predictions)))"
   ]
  },
  {
   "cell_type": "code",
   "execution_count": 14,
   "metadata": {},
   "outputs": [
    {
     "data": {
      "text/plain": [
       "0.9289429155112607"
      ]
     },
     "execution_count": 14,
     "metadata": {},
     "output_type": "execute_result"
    }
   ],
   "source": [
    "metrics.explained_variance_score(y_test,predictions)"
   ]
  }
 ],
 "metadata": {
  "interpreter": {
   "hash": "d55d083706a9c020f114bf1c514291b6a16f7df9c2c6a6da9b89d58e3afcb641"
  },
  "kernelspec": {
   "display_name": "Python 3.9.12 ('ML')",
   "language": "python",
   "name": "python3"
  },
  "language_info": {
   "codemirror_mode": {
    "name": "ipython",
    "version": 3
   },
   "file_extension": ".py",
   "mimetype": "text/x-python",
   "name": "python",
   "nbconvert_exporter": "python",
   "pygments_lexer": "ipython3",
   "version": "3.9.12"
  },
  "orig_nbformat": 4
 },
 "nbformat": 4,
 "nbformat_minor": 2
}
